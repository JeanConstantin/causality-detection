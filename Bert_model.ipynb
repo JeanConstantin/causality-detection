{
  "nbformat": 4,
  "nbformat_minor": 0,
  "metadata": {
    "colab": {
      "name": "Bert model for git",
      "provenance": [],
      "collapsed_sections": [],
      "machine_shape": "hm"
    },
    "kernelspec": {
      "name": "python3",
      "display_name": "Python 3"
    },
    "language_info": {
      "name": "python"
    },
    "accelerator": "GPU",
    "widgets": {
      "application/vnd.jupyter.widget-state+json": {
        "dc558973575847d8beef6ad10bde7522": {
          "model_module": "@jupyter-widgets/controls",
          "model_name": "HBoxModel",
          "model_module_version": "1.5.0",
          "state": {
            "_dom_classes": [],
            "_model_module": "@jupyter-widgets/controls",
            "_model_module_version": "1.5.0",
            "_model_name": "HBoxModel",
            "_view_count": null,
            "_view_module": "@jupyter-widgets/controls",
            "_view_module_version": "1.5.0",
            "_view_name": "HBoxView",
            "box_style": "",
            "children": [
              "IPY_MODEL_4c6e1da863834cf79495050e614cc8c1",
              "IPY_MODEL_288b152e85a64be3b16fdda5bcf6ce38",
              "IPY_MODEL_2138f90958b74e2fa29375e383967a02"
            ],
            "layout": "IPY_MODEL_85ae2bb143ec46eda5a2f829f34e1cd7"
          }
        },
        "4c6e1da863834cf79495050e614cc8c1": {
          "model_module": "@jupyter-widgets/controls",
          "model_name": "HTMLModel",
          "model_module_version": "1.5.0",
          "state": {
            "_dom_classes": [],
            "_model_module": "@jupyter-widgets/controls",
            "_model_module_version": "1.5.0",
            "_model_name": "HTMLModel",
            "_view_count": null,
            "_view_module": "@jupyter-widgets/controls",
            "_view_module_version": "1.5.0",
            "_view_name": "HTMLView",
            "description": "",
            "description_tooltip": null,
            "layout": "IPY_MODEL_c50c5442ee5e4cb9af2b96ad920772c6",
            "placeholder": "​",
            "style": "IPY_MODEL_812c16ed58924362adae668434cfc7e0",
            "value": "Downloading: 100%"
          }
        },
        "288b152e85a64be3b16fdda5bcf6ce38": {
          "model_module": "@jupyter-widgets/controls",
          "model_name": "FloatProgressModel",
          "model_module_version": "1.5.0",
          "state": {
            "_dom_classes": [],
            "_model_module": "@jupyter-widgets/controls",
            "_model_module_version": "1.5.0",
            "_model_name": "FloatProgressModel",
            "_view_count": null,
            "_view_module": "@jupyter-widgets/controls",
            "_view_module_version": "1.5.0",
            "_view_name": "ProgressView",
            "bar_style": "success",
            "description": "",
            "description_tooltip": null,
            "layout": "IPY_MODEL_11e87866a22d469d8052d7183fcdd02e",
            "max": 1351074932,
            "min": 0,
            "orientation": "horizontal",
            "style": "IPY_MODEL_227a56d1e5964d30a7aae276cec77f5c",
            "value": 1351074932
          }
        },
        "2138f90958b74e2fa29375e383967a02": {
          "model_module": "@jupyter-widgets/controls",
          "model_name": "HTMLModel",
          "model_module_version": "1.5.0",
          "state": {
            "_dom_classes": [],
            "_model_module": "@jupyter-widgets/controls",
            "_model_module_version": "1.5.0",
            "_model_name": "HTMLModel",
            "_view_count": null,
            "_view_module": "@jupyter-widgets/controls",
            "_view_module_version": "1.5.0",
            "_view_name": "HTMLView",
            "description": "",
            "description_tooltip": null,
            "layout": "IPY_MODEL_96c8099c47a143c5907d5d510d4bf87c",
            "placeholder": "​",
            "style": "IPY_MODEL_bcb3d8e600784fb9b2dd118221439dd6",
            "value": " 1.26G/1.26G [00:20&lt;00:00, 59.2MB/s]"
          }
        },
        "85ae2bb143ec46eda5a2f829f34e1cd7": {
          "model_module": "@jupyter-widgets/base",
          "model_name": "LayoutModel",
          "model_module_version": "1.2.0",
          "state": {
            "_model_module": "@jupyter-widgets/base",
            "_model_module_version": "1.2.0",
            "_model_name": "LayoutModel",
            "_view_count": null,
            "_view_module": "@jupyter-widgets/base",
            "_view_module_version": "1.2.0",
            "_view_name": "LayoutView",
            "align_content": null,
            "align_items": null,
            "align_self": null,
            "border": null,
            "bottom": null,
            "display": null,
            "flex": null,
            "flex_flow": null,
            "grid_area": null,
            "grid_auto_columns": null,
            "grid_auto_flow": null,
            "grid_auto_rows": null,
            "grid_column": null,
            "grid_gap": null,
            "grid_row": null,
            "grid_template_areas": null,
            "grid_template_columns": null,
            "grid_template_rows": null,
            "height": null,
            "justify_content": null,
            "justify_items": null,
            "left": null,
            "margin": null,
            "max_height": null,
            "max_width": null,
            "min_height": null,
            "min_width": null,
            "object_fit": null,
            "object_position": null,
            "order": null,
            "overflow": null,
            "overflow_x": null,
            "overflow_y": null,
            "padding": null,
            "right": null,
            "top": null,
            "visibility": null,
            "width": null
          }
        },
        "c50c5442ee5e4cb9af2b96ad920772c6": {
          "model_module": "@jupyter-widgets/base",
          "model_name": "LayoutModel",
          "model_module_version": "1.2.0",
          "state": {
            "_model_module": "@jupyter-widgets/base",
            "_model_module_version": "1.2.0",
            "_model_name": "LayoutModel",
            "_view_count": null,
            "_view_module": "@jupyter-widgets/base",
            "_view_module_version": "1.2.0",
            "_view_name": "LayoutView",
            "align_content": null,
            "align_items": null,
            "align_self": null,
            "border": null,
            "bottom": null,
            "display": null,
            "flex": null,
            "flex_flow": null,
            "grid_area": null,
            "grid_auto_columns": null,
            "grid_auto_flow": null,
            "grid_auto_rows": null,
            "grid_column": null,
            "grid_gap": null,
            "grid_row": null,
            "grid_template_areas": null,
            "grid_template_columns": null,
            "grid_template_rows": null,
            "height": null,
            "justify_content": null,
            "justify_items": null,
            "left": null,
            "margin": null,
            "max_height": null,
            "max_width": null,
            "min_height": null,
            "min_width": null,
            "object_fit": null,
            "object_position": null,
            "order": null,
            "overflow": null,
            "overflow_x": null,
            "overflow_y": null,
            "padding": null,
            "right": null,
            "top": null,
            "visibility": null,
            "width": null
          }
        },
        "812c16ed58924362adae668434cfc7e0": {
          "model_module": "@jupyter-widgets/controls",
          "model_name": "DescriptionStyleModel",
          "model_module_version": "1.5.0",
          "state": {
            "_model_module": "@jupyter-widgets/controls",
            "_model_module_version": "1.5.0",
            "_model_name": "DescriptionStyleModel",
            "_view_count": null,
            "_view_module": "@jupyter-widgets/base",
            "_view_module_version": "1.2.0",
            "_view_name": "StyleView",
            "description_width": ""
          }
        },
        "11e87866a22d469d8052d7183fcdd02e": {
          "model_module": "@jupyter-widgets/base",
          "model_name": "LayoutModel",
          "model_module_version": "1.2.0",
          "state": {
            "_model_module": "@jupyter-widgets/base",
            "_model_module_version": "1.2.0",
            "_model_name": "LayoutModel",
            "_view_count": null,
            "_view_module": "@jupyter-widgets/base",
            "_view_module_version": "1.2.0",
            "_view_name": "LayoutView",
            "align_content": null,
            "align_items": null,
            "align_self": null,
            "border": null,
            "bottom": null,
            "display": null,
            "flex": null,
            "flex_flow": null,
            "grid_area": null,
            "grid_auto_columns": null,
            "grid_auto_flow": null,
            "grid_auto_rows": null,
            "grid_column": null,
            "grid_gap": null,
            "grid_row": null,
            "grid_template_areas": null,
            "grid_template_columns": null,
            "grid_template_rows": null,
            "height": null,
            "justify_content": null,
            "justify_items": null,
            "left": null,
            "margin": null,
            "max_height": null,
            "max_width": null,
            "min_height": null,
            "min_width": null,
            "object_fit": null,
            "object_position": null,
            "order": null,
            "overflow": null,
            "overflow_x": null,
            "overflow_y": null,
            "padding": null,
            "right": null,
            "top": null,
            "visibility": null,
            "width": null
          }
        },
        "227a56d1e5964d30a7aae276cec77f5c": {
          "model_module": "@jupyter-widgets/controls",
          "model_name": "ProgressStyleModel",
          "model_module_version": "1.5.0",
          "state": {
            "_model_module": "@jupyter-widgets/controls",
            "_model_module_version": "1.5.0",
            "_model_name": "ProgressStyleModel",
            "_view_count": null,
            "_view_module": "@jupyter-widgets/base",
            "_view_module_version": "1.2.0",
            "_view_name": "StyleView",
            "bar_color": null,
            "description_width": ""
          }
        },
        "96c8099c47a143c5907d5d510d4bf87c": {
          "model_module": "@jupyter-widgets/base",
          "model_name": "LayoutModel",
          "model_module_version": "1.2.0",
          "state": {
            "_model_module": "@jupyter-widgets/base",
            "_model_module_version": "1.2.0",
            "_model_name": "LayoutModel",
            "_view_count": null,
            "_view_module": "@jupyter-widgets/base",
            "_view_module_version": "1.2.0",
            "_view_name": "LayoutView",
            "align_content": null,
            "align_items": null,
            "align_self": null,
            "border": null,
            "bottom": null,
            "display": null,
            "flex": null,
            "flex_flow": null,
            "grid_area": null,
            "grid_auto_columns": null,
            "grid_auto_flow": null,
            "grid_auto_rows": null,
            "grid_column": null,
            "grid_gap": null,
            "grid_row": null,
            "grid_template_areas": null,
            "grid_template_columns": null,
            "grid_template_rows": null,
            "height": null,
            "justify_content": null,
            "justify_items": null,
            "left": null,
            "margin": null,
            "max_height": null,
            "max_width": null,
            "min_height": null,
            "min_width": null,
            "object_fit": null,
            "object_position": null,
            "order": null,
            "overflow": null,
            "overflow_x": null,
            "overflow_y": null,
            "padding": null,
            "right": null,
            "top": null,
            "visibility": null,
            "width": null
          }
        },
        "bcb3d8e600784fb9b2dd118221439dd6": {
          "model_module": "@jupyter-widgets/controls",
          "model_name": "DescriptionStyleModel",
          "model_module_version": "1.5.0",
          "state": {
            "_model_module": "@jupyter-widgets/controls",
            "_model_module_version": "1.5.0",
            "_model_name": "DescriptionStyleModel",
            "_view_count": null,
            "_view_module": "@jupyter-widgets/base",
            "_view_module_version": "1.2.0",
            "_view_name": "StyleView",
            "description_width": ""
          }
        },
        "28402c5190bc4cef959a3cbd86e15849": {
          "model_module": "@jupyter-widgets/controls",
          "model_name": "HBoxModel",
          "model_module_version": "1.5.0",
          "state": {
            "_dom_classes": [],
            "_model_module": "@jupyter-widgets/controls",
            "_model_module_version": "1.5.0",
            "_model_name": "HBoxModel",
            "_view_count": null,
            "_view_module": "@jupyter-widgets/controls",
            "_view_module_version": "1.5.0",
            "_view_name": "HBoxView",
            "box_style": "",
            "children": [
              "IPY_MODEL_94d1d7350d3140579776af80e02eec56",
              "IPY_MODEL_2588ff7a7c3d45e5886bfbb5a06f1f08",
              "IPY_MODEL_52cc66d639874fcf895c31b1a293f7cd"
            ],
            "layout": "IPY_MODEL_51423ad6ac98467a988fef02a048f346"
          }
        },
        "94d1d7350d3140579776af80e02eec56": {
          "model_module": "@jupyter-widgets/controls",
          "model_name": "HTMLModel",
          "model_module_version": "1.5.0",
          "state": {
            "_dom_classes": [],
            "_model_module": "@jupyter-widgets/controls",
            "_model_module_version": "1.5.0",
            "_model_name": "HTMLModel",
            "_view_count": null,
            "_view_module": "@jupyter-widgets/controls",
            "_view_module_version": "1.5.0",
            "_view_name": "HTMLView",
            "description": "",
            "description_tooltip": null,
            "layout": "IPY_MODEL_b3bfe37ae4754b5080074fb221c6975d",
            "placeholder": "​",
            "style": "IPY_MODEL_2cc7b00b61924f278019877dbb32764e",
            "value": "Downloading: 100%"
          }
        },
        "2588ff7a7c3d45e5886bfbb5a06f1f08": {
          "model_module": "@jupyter-widgets/controls",
          "model_name": "FloatProgressModel",
          "model_module_version": "1.5.0",
          "state": {
            "_dom_classes": [],
            "_model_module": "@jupyter-widgets/controls",
            "_model_module_version": "1.5.0",
            "_model_name": "FloatProgressModel",
            "_view_count": null,
            "_view_module": "@jupyter-widgets/controls",
            "_view_module_version": "1.5.0",
            "_view_name": "ProgressView",
            "bar_style": "success",
            "description": "",
            "description_tooltip": null,
            "layout": "IPY_MODEL_6c6c6afa4d644ca299d915dc8f721c77",
            "max": 808767,
            "min": 0,
            "orientation": "horizontal",
            "style": "IPY_MODEL_3292abec54f440c38fe14de7a1eb3bb5",
            "value": 808767
          }
        },
        "52cc66d639874fcf895c31b1a293f7cd": {
          "model_module": "@jupyter-widgets/controls",
          "model_name": "HTMLModel",
          "model_module_version": "1.5.0",
          "state": {
            "_dom_classes": [],
            "_model_module": "@jupyter-widgets/controls",
            "_model_module_version": "1.5.0",
            "_model_name": "HTMLModel",
            "_view_count": null,
            "_view_module": "@jupyter-widgets/controls",
            "_view_module_version": "1.5.0",
            "_view_name": "HTMLView",
            "description": "",
            "description_tooltip": null,
            "layout": "IPY_MODEL_26344204a8b645f683e308f74275020d",
            "placeholder": "​",
            "style": "IPY_MODEL_1f5f8585afa54af2846d4c9351fa61bb",
            "value": " 790k/790k [00:00&lt;00:00, 901kB/s]"
          }
        },
        "51423ad6ac98467a988fef02a048f346": {
          "model_module": "@jupyter-widgets/base",
          "model_name": "LayoutModel",
          "model_module_version": "1.2.0",
          "state": {
            "_model_module": "@jupyter-widgets/base",
            "_model_module_version": "1.2.0",
            "_model_name": "LayoutModel",
            "_view_count": null,
            "_view_module": "@jupyter-widgets/base",
            "_view_module_version": "1.2.0",
            "_view_name": "LayoutView",
            "align_content": null,
            "align_items": null,
            "align_self": null,
            "border": null,
            "bottom": null,
            "display": null,
            "flex": null,
            "flex_flow": null,
            "grid_area": null,
            "grid_auto_columns": null,
            "grid_auto_flow": null,
            "grid_auto_rows": null,
            "grid_column": null,
            "grid_gap": null,
            "grid_row": null,
            "grid_template_areas": null,
            "grid_template_columns": null,
            "grid_template_rows": null,
            "height": null,
            "justify_content": null,
            "justify_items": null,
            "left": null,
            "margin": null,
            "max_height": null,
            "max_width": null,
            "min_height": null,
            "min_width": null,
            "object_fit": null,
            "object_position": null,
            "order": null,
            "overflow": null,
            "overflow_x": null,
            "overflow_y": null,
            "padding": null,
            "right": null,
            "top": null,
            "visibility": null,
            "width": null
          }
        },
        "b3bfe37ae4754b5080074fb221c6975d": {
          "model_module": "@jupyter-widgets/base",
          "model_name": "LayoutModel",
          "model_module_version": "1.2.0",
          "state": {
            "_model_module": "@jupyter-widgets/base",
            "_model_module_version": "1.2.0",
            "_model_name": "LayoutModel",
            "_view_count": null,
            "_view_module": "@jupyter-widgets/base",
            "_view_module_version": "1.2.0",
            "_view_name": "LayoutView",
            "align_content": null,
            "align_items": null,
            "align_self": null,
            "border": null,
            "bottom": null,
            "display": null,
            "flex": null,
            "flex_flow": null,
            "grid_area": null,
            "grid_auto_columns": null,
            "grid_auto_flow": null,
            "grid_auto_rows": null,
            "grid_column": null,
            "grid_gap": null,
            "grid_row": null,
            "grid_template_areas": null,
            "grid_template_columns": null,
            "grid_template_rows": null,
            "height": null,
            "justify_content": null,
            "justify_items": null,
            "left": null,
            "margin": null,
            "max_height": null,
            "max_width": null,
            "min_height": null,
            "min_width": null,
            "object_fit": null,
            "object_position": null,
            "order": null,
            "overflow": null,
            "overflow_x": null,
            "overflow_y": null,
            "padding": null,
            "right": null,
            "top": null,
            "visibility": null,
            "width": null
          }
        },
        "2cc7b00b61924f278019877dbb32764e": {
          "model_module": "@jupyter-widgets/controls",
          "model_name": "DescriptionStyleModel",
          "model_module_version": "1.5.0",
          "state": {
            "_model_module": "@jupyter-widgets/controls",
            "_model_module_version": "1.5.0",
            "_model_name": "DescriptionStyleModel",
            "_view_count": null,
            "_view_module": "@jupyter-widgets/base",
            "_view_module_version": "1.2.0",
            "_view_name": "StyleView",
            "description_width": ""
          }
        },
        "6c6c6afa4d644ca299d915dc8f721c77": {
          "model_module": "@jupyter-widgets/base",
          "model_name": "LayoutModel",
          "model_module_version": "1.2.0",
          "state": {
            "_model_module": "@jupyter-widgets/base",
            "_model_module_version": "1.2.0",
            "_model_name": "LayoutModel",
            "_view_count": null,
            "_view_module": "@jupyter-widgets/base",
            "_view_module_version": "1.2.0",
            "_view_name": "LayoutView",
            "align_content": null,
            "align_items": null,
            "align_self": null,
            "border": null,
            "bottom": null,
            "display": null,
            "flex": null,
            "flex_flow": null,
            "grid_area": null,
            "grid_auto_columns": null,
            "grid_auto_flow": null,
            "grid_auto_rows": null,
            "grid_column": null,
            "grid_gap": null,
            "grid_row": null,
            "grid_template_areas": null,
            "grid_template_columns": null,
            "grid_template_rows": null,
            "height": null,
            "justify_content": null,
            "justify_items": null,
            "left": null,
            "margin": null,
            "max_height": null,
            "max_width": null,
            "min_height": null,
            "min_width": null,
            "object_fit": null,
            "object_position": null,
            "order": null,
            "overflow": null,
            "overflow_x": null,
            "overflow_y": null,
            "padding": null,
            "right": null,
            "top": null,
            "visibility": null,
            "width": null
          }
        },
        "3292abec54f440c38fe14de7a1eb3bb5": {
          "model_module": "@jupyter-widgets/controls",
          "model_name": "ProgressStyleModel",
          "model_module_version": "1.5.0",
          "state": {
            "_model_module": "@jupyter-widgets/controls",
            "_model_module_version": "1.5.0",
            "_model_name": "ProgressStyleModel",
            "_view_count": null,
            "_view_module": "@jupyter-widgets/base",
            "_view_module_version": "1.2.0",
            "_view_name": "StyleView",
            "bar_color": null,
            "description_width": ""
          }
        },
        "26344204a8b645f683e308f74275020d": {
          "model_module": "@jupyter-widgets/base",
          "model_name": "LayoutModel",
          "model_module_version": "1.2.0",
          "state": {
            "_model_module": "@jupyter-widgets/base",
            "_model_module_version": "1.2.0",
            "_model_name": "LayoutModel",
            "_view_count": null,
            "_view_module": "@jupyter-widgets/base",
            "_view_module_version": "1.2.0",
            "_view_name": "LayoutView",
            "align_content": null,
            "align_items": null,
            "align_self": null,
            "border": null,
            "bottom": null,
            "display": null,
            "flex": null,
            "flex_flow": null,
            "grid_area": null,
            "grid_auto_columns": null,
            "grid_auto_flow": null,
            "grid_auto_rows": null,
            "grid_column": null,
            "grid_gap": null,
            "grid_row": null,
            "grid_template_areas": null,
            "grid_template_columns": null,
            "grid_template_rows": null,
            "height": null,
            "justify_content": null,
            "justify_items": null,
            "left": null,
            "margin": null,
            "max_height": null,
            "max_width": null,
            "min_height": null,
            "min_width": null,
            "object_fit": null,
            "object_position": null,
            "order": null,
            "overflow": null,
            "overflow_x": null,
            "overflow_y": null,
            "padding": null,
            "right": null,
            "top": null,
            "visibility": null,
            "width": null
          }
        },
        "1f5f8585afa54af2846d4c9351fa61bb": {
          "model_module": "@jupyter-widgets/controls",
          "model_name": "DescriptionStyleModel",
          "model_module_version": "1.5.0",
          "state": {
            "_model_module": "@jupyter-widgets/controls",
            "_model_module_version": "1.5.0",
            "_model_name": "DescriptionStyleModel",
            "_view_count": null,
            "_view_module": "@jupyter-widgets/base",
            "_view_module_version": "1.2.0",
            "_view_name": "StyleView",
            "description_width": ""
          }
        },
        "6037425fbe0b4029bf4f7c641818effd": {
          "model_module": "@jupyter-widgets/controls",
          "model_name": "HBoxModel",
          "model_module_version": "1.5.0",
          "state": {
            "_dom_classes": [],
            "_model_module": "@jupyter-widgets/controls",
            "_model_module_version": "1.5.0",
            "_model_name": "HBoxModel",
            "_view_count": null,
            "_view_module": "@jupyter-widgets/controls",
            "_view_module_version": "1.5.0",
            "_view_name": "HBoxView",
            "box_style": "",
            "children": [
              "IPY_MODEL_fe0c9c68c5d9442cb45871a816bf3351",
              "IPY_MODEL_87260162c6b64f0084956fb091f7fae8",
              "IPY_MODEL_61165e13b4c940769345838d26e67c8e"
            ],
            "layout": "IPY_MODEL_cabd87f0f5c34d13b7b3948a1f3ff673"
          }
        },
        "fe0c9c68c5d9442cb45871a816bf3351": {
          "model_module": "@jupyter-widgets/controls",
          "model_name": "HTMLModel",
          "model_module_version": "1.5.0",
          "state": {
            "_dom_classes": [],
            "_model_module": "@jupyter-widgets/controls",
            "_model_module_version": "1.5.0",
            "_model_name": "HTMLModel",
            "_view_count": null,
            "_view_module": "@jupyter-widgets/controls",
            "_view_module_version": "1.5.0",
            "_view_name": "HTMLView",
            "description": "",
            "description_tooltip": null,
            "layout": "IPY_MODEL_095c04ed04cd489a9cb539e27a3447a9",
            "placeholder": "​",
            "style": "IPY_MODEL_52e1d328fe994f03b93fe9fb44865c2f",
            "value": "Downloading: 100%"
          }
        },
        "87260162c6b64f0084956fb091f7fae8": {
          "model_module": "@jupyter-widgets/controls",
          "model_name": "FloatProgressModel",
          "model_module_version": "1.5.0",
          "state": {
            "_dom_classes": [],
            "_model_module": "@jupyter-widgets/controls",
            "_model_module_version": "1.5.0",
            "_model_name": "FloatProgressModel",
            "_view_count": null,
            "_view_module": "@jupyter-widgets/controls",
            "_view_module_version": "1.5.0",
            "_view_name": "ProgressView",
            "bar_style": "success",
            "description": "",
            "description_tooltip": null,
            "layout": "IPY_MODEL_923bfea3593241de871f8396c1991e60",
            "max": 456,
            "min": 0,
            "orientation": "horizontal",
            "style": "IPY_MODEL_b0a073f1f463462aa8f1c99cbec98493",
            "value": 456
          }
        },
        "61165e13b4c940769345838d26e67c8e": {
          "model_module": "@jupyter-widgets/controls",
          "model_name": "HTMLModel",
          "model_module_version": "1.5.0",
          "state": {
            "_dom_classes": [],
            "_model_module": "@jupyter-widgets/controls",
            "_model_module_version": "1.5.0",
            "_model_name": "HTMLModel",
            "_view_count": null,
            "_view_module": "@jupyter-widgets/controls",
            "_view_module_version": "1.5.0",
            "_view_name": "HTMLView",
            "description": "",
            "description_tooltip": null,
            "layout": "IPY_MODEL_3046f28a12a9426ca06662ec77ebf949",
            "placeholder": "​",
            "style": "IPY_MODEL_5d69dbca28414ebb81c1830f3bb8ccad",
            "value": " 456/456 [00:00&lt;00:00, 7.76kB/s]"
          }
        },
        "cabd87f0f5c34d13b7b3948a1f3ff673": {
          "model_module": "@jupyter-widgets/base",
          "model_name": "LayoutModel",
          "model_module_version": "1.2.0",
          "state": {
            "_model_module": "@jupyter-widgets/base",
            "_model_module_version": "1.2.0",
            "_model_name": "LayoutModel",
            "_view_count": null,
            "_view_module": "@jupyter-widgets/base",
            "_view_module_version": "1.2.0",
            "_view_name": "LayoutView",
            "align_content": null,
            "align_items": null,
            "align_self": null,
            "border": null,
            "bottom": null,
            "display": null,
            "flex": null,
            "flex_flow": null,
            "grid_area": null,
            "grid_auto_columns": null,
            "grid_auto_flow": null,
            "grid_auto_rows": null,
            "grid_column": null,
            "grid_gap": null,
            "grid_row": null,
            "grid_template_areas": null,
            "grid_template_columns": null,
            "grid_template_rows": null,
            "height": null,
            "justify_content": null,
            "justify_items": null,
            "left": null,
            "margin": null,
            "max_height": null,
            "max_width": null,
            "min_height": null,
            "min_width": null,
            "object_fit": null,
            "object_position": null,
            "order": null,
            "overflow": null,
            "overflow_x": null,
            "overflow_y": null,
            "padding": null,
            "right": null,
            "top": null,
            "visibility": null,
            "width": null
          }
        },
        "095c04ed04cd489a9cb539e27a3447a9": {
          "model_module": "@jupyter-widgets/base",
          "model_name": "LayoutModel",
          "model_module_version": "1.2.0",
          "state": {
            "_model_module": "@jupyter-widgets/base",
            "_model_module_version": "1.2.0",
            "_model_name": "LayoutModel",
            "_view_count": null,
            "_view_module": "@jupyter-widgets/base",
            "_view_module_version": "1.2.0",
            "_view_name": "LayoutView",
            "align_content": null,
            "align_items": null,
            "align_self": null,
            "border": null,
            "bottom": null,
            "display": null,
            "flex": null,
            "flex_flow": null,
            "grid_area": null,
            "grid_auto_columns": null,
            "grid_auto_flow": null,
            "grid_auto_rows": null,
            "grid_column": null,
            "grid_gap": null,
            "grid_row": null,
            "grid_template_areas": null,
            "grid_template_columns": null,
            "grid_template_rows": null,
            "height": null,
            "justify_content": null,
            "justify_items": null,
            "left": null,
            "margin": null,
            "max_height": null,
            "max_width": null,
            "min_height": null,
            "min_width": null,
            "object_fit": null,
            "object_position": null,
            "order": null,
            "overflow": null,
            "overflow_x": null,
            "overflow_y": null,
            "padding": null,
            "right": null,
            "top": null,
            "visibility": null,
            "width": null
          }
        },
        "52e1d328fe994f03b93fe9fb44865c2f": {
          "model_module": "@jupyter-widgets/controls",
          "model_name": "DescriptionStyleModel",
          "model_module_version": "1.5.0",
          "state": {
            "_model_module": "@jupyter-widgets/controls",
            "_model_module_version": "1.5.0",
            "_model_name": "DescriptionStyleModel",
            "_view_count": null,
            "_view_module": "@jupyter-widgets/base",
            "_view_module_version": "1.2.0",
            "_view_name": "StyleView",
            "description_width": ""
          }
        },
        "923bfea3593241de871f8396c1991e60": {
          "model_module": "@jupyter-widgets/base",
          "model_name": "LayoutModel",
          "model_module_version": "1.2.0",
          "state": {
            "_model_module": "@jupyter-widgets/base",
            "_model_module_version": "1.2.0",
            "_model_name": "LayoutModel",
            "_view_count": null,
            "_view_module": "@jupyter-widgets/base",
            "_view_module_version": "1.2.0",
            "_view_name": "LayoutView",
            "align_content": null,
            "align_items": null,
            "align_self": null,
            "border": null,
            "bottom": null,
            "display": null,
            "flex": null,
            "flex_flow": null,
            "grid_area": null,
            "grid_auto_columns": null,
            "grid_auto_flow": null,
            "grid_auto_rows": null,
            "grid_column": null,
            "grid_gap": null,
            "grid_row": null,
            "grid_template_areas": null,
            "grid_template_columns": null,
            "grid_template_rows": null,
            "height": null,
            "justify_content": null,
            "justify_items": null,
            "left": null,
            "margin": null,
            "max_height": null,
            "max_width": null,
            "min_height": null,
            "min_width": null,
            "object_fit": null,
            "object_position": null,
            "order": null,
            "overflow": null,
            "overflow_x": null,
            "overflow_y": null,
            "padding": null,
            "right": null,
            "top": null,
            "visibility": null,
            "width": null
          }
        },
        "b0a073f1f463462aa8f1c99cbec98493": {
          "model_module": "@jupyter-widgets/controls",
          "model_name": "ProgressStyleModel",
          "model_module_version": "1.5.0",
          "state": {
            "_model_module": "@jupyter-widgets/controls",
            "_model_module_version": "1.5.0",
            "_model_name": "ProgressStyleModel",
            "_view_count": null,
            "_view_module": "@jupyter-widgets/base",
            "_view_module_version": "1.2.0",
            "_view_name": "StyleView",
            "bar_color": null,
            "description_width": ""
          }
        },
        "3046f28a12a9426ca06662ec77ebf949": {
          "model_module": "@jupyter-widgets/base",
          "model_name": "LayoutModel",
          "model_module_version": "1.2.0",
          "state": {
            "_model_module": "@jupyter-widgets/base",
            "_model_module_version": "1.2.0",
            "_model_name": "LayoutModel",
            "_view_count": null,
            "_view_module": "@jupyter-widgets/base",
            "_view_module_version": "1.2.0",
            "_view_name": "LayoutView",
            "align_content": null,
            "align_items": null,
            "align_self": null,
            "border": null,
            "bottom": null,
            "display": null,
            "flex": null,
            "flex_flow": null,
            "grid_area": null,
            "grid_auto_columns": null,
            "grid_auto_flow": null,
            "grid_auto_rows": null,
            "grid_column": null,
            "grid_gap": null,
            "grid_row": null,
            "grid_template_areas": null,
            "grid_template_columns": null,
            "grid_template_rows": null,
            "height": null,
            "justify_content": null,
            "justify_items": null,
            "left": null,
            "margin": null,
            "max_height": null,
            "max_width": null,
            "min_height": null,
            "min_width": null,
            "object_fit": null,
            "object_position": null,
            "order": null,
            "overflow": null,
            "overflow_x": null,
            "overflow_y": null,
            "padding": null,
            "right": null,
            "top": null,
            "visibility": null,
            "width": null
          }
        },
        "5d69dbca28414ebb81c1830f3bb8ccad": {
          "model_module": "@jupyter-widgets/controls",
          "model_name": "DescriptionStyleModel",
          "model_module_version": "1.5.0",
          "state": {
            "_model_module": "@jupyter-widgets/controls",
            "_model_module_version": "1.5.0",
            "_model_name": "DescriptionStyleModel",
            "_view_count": null,
            "_view_module": "@jupyter-widgets/base",
            "_view_module_version": "1.2.0",
            "_view_name": "StyleView",
            "description_width": ""
          }
        }
      }
    }
  },
  "cells": [
    {
      "cell_type": "markdown",
      "source": [
        "# Setup"
      ],
      "metadata": {
        "id": "Qa_jdAzW80Md"
      }
    },
    {
      "cell_type": "code",
      "execution_count": null,
      "metadata": {
        "id": "KBUB0Ux-8d1e"
      },
      "outputs": [],
      "source": [
        "import pandas as pd\n",
        "import numpy as np\n",
        "import math, torch\n",
        "from transformers import CamembertTokenizer\n",
        "from transformers.models.camembert.modeling_camembert import CamembertForSequenceClassification\n",
        "from datasets import load_metric\n",
        "from transformers import Trainer, TrainingArguments\n",
        "from sklearn.metrics import f1_score, precision_score, recall_score"
      ]
    },
    {
      "cell_type": "code",
      "source": [
        "device = torch.device('cuda:0')\n",
        "print(\"Device: {}\".format(device))"
      ],
      "metadata": {
        "colab": {
          "base_uri": "https://localhost:8080/"
        },
        "id": "wG78w_Uo83Ph",
        "outputId": "94c3c6c3-6d00-43e8-fe18-bacc441095a7"
      },
      "execution_count": null,
      "outputs": [
        {
          "output_type": "stream",
          "name": "stdout",
          "text": [
            "Device: cuda:0\n"
          ]
        }
      ]
    },
    {
      "cell_type": "markdown",
      "source": [
        "# Load data and final processing"
      ],
      "metadata": {
        "id": "aAXzMQp79GPZ"
      }
    },
    {
      "cell_type": "markdown",
      "source": [
        "### Import and process the translated PDTB\n",
        "The PDTB is freely available at: https://github.com/cgpotts/pdtb2.\n",
        "It was machine-translated from French to English using the open-source LibreTranslate API: https://libretranslate.com/?source=en&target=fr&q="
      ],
      "metadata": {
        "id": "AcOzMWPBgXrO"
      }
    },
    {
      "cell_type": "code",
      "source": [
        "pdtb = pd.read_csv('drive/MyDrive/Thesis/data/pdtb_translated.csv')\n",
        "\n",
        "#Drop if translation is error\n",
        "pdtb = pdtb[pdtb['clean_text_fr'] != 'Error']\n",
        "\n",
        "#Slice the 2 arguments from the translation\n",
        "pdtb['arg1_fr'] = pdtb['clean_text_fr'].apply(lambda x: x.split('\\n')[0] if len(x.split('\\n'))==2 else 'Error')\n",
        "pdtb['arg2_fr'] = pdtb['clean_text_fr'].apply(lambda x: x.split('\\n')[1] if len(x.split('\\n'))==2 else 'Error')\n",
        "pdtb = pdtb[(pdtb['arg1_fr']!='Error') & (pdtb['arg2_fr']!='Error')]\n",
        "\n",
        "#Cleaning of pdtb\n",
        "\n",
        "#Replace the badly decoded apostrophe\n",
        "pdtb['arg1_fr'] = pdtb['arg1_fr'].apply(lambda x: x.replace(' &apos; ', \"'\" ))\n",
        "pdtb['arg2_fr'] = pdtb['arg2_fr'].apply(lambda x: x.replace(' &apos; ', \"'\" ))\n",
        "\n",
        "#Remove punctuation at the begining of the argument\n",
        "pdtb['arg1_fr'] = pdtb['arg1_fr'].apply(lambda x: x[1:].strip() if (x[0]=='.' or x[0]==',' or x[0]==';' or x[0]==':') else x)\n",
        "pdtb['arg2_fr'] = pdtb['arg2_fr'].apply(lambda x: x[1:].strip() if (x[0]=='.' or x[0]==',' or x[0]==';' or x[0]==':') else x)\n",
        "\n",
        "#Binary variable to identify explicit relations\n",
        "pdtb['explicit'] = 0\n",
        "pdtb.loc[pdtb['Connective_RawText'].isna()==False, 'explicit'] = 1"
      ],
      "metadata": {
        "id": "ByJjUea185G_"
      },
      "execution_count": null,
      "outputs": []
    },
    {
      "cell_type": "markdown",
      "source": [
        "### Import and process the French corpus Explicadis"
      ],
      "metadata": {
        "id": "ECvcrilzhDc9"
      }
    },
    {
      "cell_type": "code",
      "source": [
        "explicadis = pd.read_excel('drive/My Drive/Thesis/data/explicadis_final.xlsx')\n",
        "\n",
        "#Clean explicadis\n",
        "explicadis['Arg1_raw'] = explicadis['Arg1_raw'].apply(lambda x: x.strip())\n",
        "explicadis['Arg2_raw'] = explicadis['Arg2_raw'].apply(lambda x: x.strip())\n",
        "\n",
        "explicadis['causal_type'] = 'Not causal'\n",
        "explicadis.loc[explicadis['relation_type']=='result', 'causal_type'] = 'Result'\n",
        "explicadis.loc[explicadis['relation_type']=='explanation', 'causal_type'] = 'Reason'"
      ],
      "metadata": {
        "id": "hmvFeC3s9Tpv"
      },
      "execution_count": null,
      "outputs": []
    },
    {
      "cell_type": "markdown",
      "source": [
        "###The PDTB is split into a training, a validation and a test dataset"
      ],
      "metadata": {
        "id": "4WiuV5Mu9bFE"
      }
    },
    {
      "cell_type": "code",
      "source": [
        "#The PDBT is shuffled randomly\n",
        "pdtb = pdtb.sample(frac=1, random_state=73940)\n",
        "pdtb.reset_index(inplace=True)\n",
        "\n",
        "train_frac = 0.70\n",
        "val_frac = 0.15\n",
        "test_frac = 0.15\n",
        "\n",
        "train_slice = math.floor(pdtb.shape[0]*train_frac)\n",
        "val_slice = train_slice + math.floor(pdtb.shape[0]*val_frac)\n",
        "test_slice = pdtb.shape[0]+1\n",
        "\n",
        "pdtb_train = pdtb.loc[0:train_slice, :]\n",
        "pdtb_val = pdtb.loc[train_slice+1: val_slice, :]\n",
        "pdtb_test = pdtb.loc[val_slice+1:test_slice, :]\n",
        "\n",
        "print(pdtb_train.shape)\n",
        "print(pdtb_val.shape)\n",
        "print(pdtb_test.shape)"
      ],
      "metadata": {
        "id": "f8Lwd1vS9pE6"
      },
      "execution_count": null,
      "outputs": []
    },
    {
      "cell_type": "markdown",
      "source": [
        "Formating of the data and the targets"
      ],
      "metadata": {
        "id": "X4OHZxX7i6zo"
      }
    },
    {
      "cell_type": "code",
      "source": [
        "#PDTB train dataset\n",
        "X_train_arg1 = pdtb_train['arg1_fr'].tolist()\n",
        "X_train_arg2 = pdtb_train['arg2_fr'].tolist()\n",
        "y_train = pdtb_train['causal_type'].tolist()\n",
        "\n",
        "#Fraction of the PDTB train dataset for fine-tuning\n",
        "X_train_ft_arg1 = X_train_arg1[0:10000]\n",
        "X_train_ft_arg2 = X_train_arg2[0:10000]\n",
        "y_train_ft = y_train[0:10000]\n",
        "\n",
        "#PDTB validation dataset\n",
        "X_val_arg1 = pdtb_val['arg1_fr'].tolist()\n",
        "X_val_arg2 = pdtb_val['arg2_fr'].tolist()\n",
        "y_val = pdtb_val['causal_type'].tolist()\n",
        "\n",
        "#PDTB test dataset\n",
        "X_test_arg1 = pdtb_test['arg1_fr'].tolist()\n",
        "X_test_arg2 = pdtb_test['arg2_fr'].tolist()\n",
        "y_test = pdtb_test['causal_type'].tolist()\n",
        "\n",
        "#Explicadis dataset\n",
        "X_explicadis_arg1 = explicadis['Arg1_raw'].tolist()\n",
        "X_explicadis_arg2 = explicadis['Arg2_raw'].tolist()\n",
        "y_explicadis = explicadis['causal_type'].tolist()"
      ],
      "metadata": {
        "id": "yYreUwMaITMl"
      },
      "execution_count": null,
      "outputs": []
    },
    {
      "cell_type": "markdown",
      "source": [
        "# Encoding"
      ],
      "metadata": {
        "id": "UdtW55mjH1T8"
      }
    },
    {
      "cell_type": "markdown",
      "source": [
        "The target is encoded for the three classes:\n",
        "\n",
        "\n",
        "*   0: Not causal\n",
        "*   1: Reason\n",
        "*   2: Result\n",
        "\n",
        "\n",
        "\n",
        "\n"
      ],
      "metadata": {
        "id": "f5bKbMHBmxxV"
      }
    },
    {
      "cell_type": "code",
      "source": [
        "#Target encoding\n",
        "y_train_encoded = [0 if x=='Not causal' else (1 if x=='Reason' else (2 if x=='Result' else x)) for x in y_train]\n",
        "y_train_ft_encoded = [0 if x=='Not causal' else (1 if x=='Reason' else (2 if x=='Result' else x)) for x in y_train_ft]\n",
        "y_val_encoded = [0 if x=='Not causal' else (1 if x=='Reason' else (2 if x=='Result' else x)) for x in y_val]\n",
        "y_test_encoded = [0 if x=='Not causal' else (1 if x=='Reason' else (2 if x=='Result' else x)) for x in y_test]\n",
        "y_explicadis_encoded = [0 if x=='Not causal' else (1 if x=='Reason' else (2 if x=='Result' else x)) for x in y_explicadis]"
      ],
      "metadata": {
        "id": "ciacfLbSkOcH"
      },
      "execution_count": null,
      "outputs": []
    },
    {
      "cell_type": "markdown",
      "source": [
        "The tokenizer is specific to the camembert-large model, a BERT model for French, available at: https://camembert-model.fr/"
      ],
      "metadata": {
        "id": "67dAB0ZfnFRh"
      }
    },
    {
      "cell_type": "code",
      "source": [
        "tokenizer = CamembertTokenizer.from_pretrained(\"camembert/camembert-large\")"
      ],
      "metadata": {
        "id": "wfKJTD9NICfj",
        "colab": {
          "base_uri": "https://localhost:8080/",
          "height": 81,
          "referenced_widgets": [
            "28402c5190bc4cef959a3cbd86e15849",
            "94d1d7350d3140579776af80e02eec56",
            "2588ff7a7c3d45e5886bfbb5a06f1f08",
            "52cc66d639874fcf895c31b1a293f7cd",
            "51423ad6ac98467a988fef02a048f346",
            "b3bfe37ae4754b5080074fb221c6975d",
            "2cc7b00b61924f278019877dbb32764e",
            "6c6c6afa4d644ca299d915dc8f721c77",
            "3292abec54f440c38fe14de7a1eb3bb5",
            "26344204a8b645f683e308f74275020d",
            "1f5f8585afa54af2846d4c9351fa61bb",
            "6037425fbe0b4029bf4f7c641818effd",
            "fe0c9c68c5d9442cb45871a816bf3351",
            "87260162c6b64f0084956fb091f7fae8",
            "61165e13b4c940769345838d26e67c8e",
            "cabd87f0f5c34d13b7b3948a1f3ff673",
            "095c04ed04cd489a9cb539e27a3447a9",
            "52e1d328fe994f03b93fe9fb44865c2f",
            "923bfea3593241de871f8396c1991e60",
            "b0a073f1f463462aa8f1c99cbec98493",
            "3046f28a12a9426ca06662ec77ebf949",
            "5d69dbca28414ebb81c1830f3bb8ccad"
          ]
        },
        "outputId": "69c3eb4f-3f91-43cf-cfdc-a58ed4429f59"
      },
      "execution_count": null,
      "outputs": [
        {
          "output_type": "display_data",
          "data": {
            "text/plain": [
              "Downloading:   0%|          | 0.00/790k [00:00<?, ?B/s]"
            ],
            "application/vnd.jupyter.widget-view+json": {
              "version_major": 2,
              "version_minor": 0,
              "model_id": "28402c5190bc4cef959a3cbd86e15849"
            }
          },
          "metadata": {}
        },
        {
          "output_type": "display_data",
          "data": {
            "text/plain": [
              "Downloading:   0%|          | 0.00/456 [00:00<?, ?B/s]"
            ],
            "application/vnd.jupyter.widget-view+json": {
              "version_major": 2,
              "version_minor": 0,
              "model_id": "6037425fbe0b4029bf4f7c641818effd"
            }
          },
          "metadata": {}
        }
      ]
    },
    {
      "cell_type": "markdown",
      "source": [
        "Argument pairs are encoded and their length are normalized to a total of 200 tokens for the entire argument pair"
      ],
      "metadata": {
        "id": "j4DU-m2PnTbJ"
      }
    },
    {
      "cell_type": "code",
      "source": [
        "X_train_encoded = tokenizer(X_train_arg1, X_train_arg2, truncation='longest_first', padding ='max_length', max_length=200, return_tensors='pt')\n",
        "X_train_ft_encoded = tokenizer(X_train_ft_arg1, X_train_ft_arg2, truncation='longest_first', padding ='max_length', max_length=200, return_tensors='pt')\n",
        "X_val_encoded = tokenizer(X_val_arg1, X_val_arg2, truncation='longest_first', padding ='max_length', max_length=200, return_tensors='pt')\n",
        "X_test_encoded = tokenizer(X_test_arg1, X_test_arg2, truncation='longest_first', padding ='max_length', max_length=200, return_tensors='pt')\n",
        "X_explicadis_encoded = tokenizer(X_explicadis_arg1, X_explicadis_arg2, truncation='longest_first', padding ='max_length', max_length=200, return_tensors='pt')"
      ],
      "metadata": {
        "id": "DpkA6GlnKQSS"
      },
      "execution_count": null,
      "outputs": []
    },
    {
      "cell_type": "markdown",
      "source": [
        "The encoded argument pairs are loaded in a Dataset object as per HuggingFace's Transfromers library documentation: https://huggingface.co/course/chapter3/2?fw=pt"
      ],
      "metadata": {
        "id": "EZuXVyE3niQo"
      }
    },
    {
      "cell_type": "code",
      "source": [
        "class Dataset(torch.utils.data.Dataset):\n",
        "    def __init__(self, encodings, labels):\n",
        "        self.encodings = encodings\n",
        "        self.labels = labels\n",
        "\n",
        "    def __getitem__(self, idx):\n",
        "        item = {key: torch.tensor(val[idx]) for key, val in self.encodings.items()}\n",
        "        item['labels'] = torch.tensor(self.labels[idx])\n",
        "        return item\n",
        "\n",
        "    def __len__(self):\n",
        "        return len(self.labels)\n",
        "\n",
        "train_dataset = Dataset(X_train_encoded, y_train_encoded)\n",
        "train_ft_dataset = Dataset(X_train_ft_encoded, y_train_ft_encoded)\n",
        "val_dataset = Dataset(X_val_encoded, y_val_encoded)\n",
        "test_dataset = Dataset(X_test_encoded, [0]*len(y_test_encoded))\n",
        "explicadis_dataset = Dataset(X_explicadis_encoded, [0]*len(y_explicadis_encoded))"
      ],
      "metadata": {
        "id": "iZOaCPccjb6_"
      },
      "execution_count": null,
      "outputs": []
    },
    {
      "cell_type": "markdown",
      "source": [
        "# Fine tuning and model training"
      ],
      "metadata": {
        "id": "Kg2e2hIb9_dt"
      }
    },
    {
      "cell_type": "markdown",
      "source": [
        "The learning rate and the weight decay (L2 regularization) are finetuned using a gridsearch approach for the following values:\n",
        "\n",
        "*   Learning rate: 0.000001, 0.000005, 0.00001\n",
        "*   Weight decay: 0.001, 0.01, 0.1\n",
        "\n"
      ],
      "metadata": {
        "id": "ZBUlKF8ro0WN"
      }
    },
    {
      "cell_type": "markdown",
      "source": [
        "The best performing hyperparameters are a learning rate: 0.00001 and weight decay: 0.1 over 4 epochs"
      ],
      "metadata": {
        "id": "WZ8sW1ltqOYo"
      }
    },
    {
      "cell_type": "code",
      "source": [
        "from matplotlib import pyplot as plt\n",
        "plt.style.use('ggplot')\n",
        "plt.figure(figsize = (7.5, 5))\n",
        "plt.plot(val_f1_history, label='Validation', color='black')\n",
        "plt.legend(loc=\"lower right\", prop={\"size\":12})\n",
        "plt.xlabel('Epochs')\n",
        "plt.ylabel('F1-score')\n",
        "plt.title('Task 2')\n",
        "plt.savefig('drive/My Drive/Thesis/models/Bert threeway/bert_threeway_training_overfitted', dpi=150, fontsize=16, bbox_inches='tight')\n",
        "plt.show()"
      ],
      "metadata": {
        "id": "AO0mhYeaTuVR",
        "colab": {
          "base_uri": "https://localhost:8080/",
          "height": 354
        },
        "outputId": "6e4bf83e-2b96-44bc-ac55-8ed500366688"
      },
      "execution_count": null,
      "outputs": [
        {
          "output_type": "display_data",
          "data": {
            "text/plain": [
              "<Figure size 540x360 with 1 Axes>"
            ],
            "image/png": "[encoded data removed]"
          },
          "metadata": {}
        }
      ]
    },
    {
      "cell_type": "markdown",
      "source": [
        "The pre-trained French BERT model CamemBERT is loaded: https://camembert-model.fr/"
      ],
      "metadata": {
        "id": "tvR7iiJxpY8K"
      }
    },
    {
      "cell_type": "code",
      "source": [
        "model = CamembertForSequenceClassification.from_pretrained(\"camembert/camembert-large\", num_labels=3)"
      ],
      "metadata": {
        "id": "8tQvp3fn-FZQ",
        "colab": {
          "base_uri": "https://localhost:8080/",
          "height": 156,
          "referenced_widgets": [
            "dc558973575847d8beef6ad10bde7522",
            "4c6e1da863834cf79495050e614cc8c1",
            "288b152e85a64be3b16fdda5bcf6ce38",
            "2138f90958b74e2fa29375e383967a02",
            "85ae2bb143ec46eda5a2f829f34e1cd7",
            "c50c5442ee5e4cb9af2b96ad920772c6",
            "812c16ed58924362adae668434cfc7e0",
            "11e87866a22d469d8052d7183fcdd02e",
            "227a56d1e5964d30a7aae276cec77f5c",
            "96c8099c47a143c5907d5d510d4bf87c",
            "bcb3d8e600784fb9b2dd118221439dd6"
          ]
        },
        "outputId": "adfa88fa-495d-4f76-99e2-80a8bd663cd4"
      },
      "execution_count": null,
      "outputs": [
        {
          "output_type": "display_data",
          "data": {
            "text/plain": [
              "Downloading:   0%|          | 0.00/1.26G [00:00<?, ?B/s]"
            ],
            "application/vnd.jupyter.widget-view+json": {
              "version_major": 2,
              "version_minor": 0,
              "model_id": "dc558973575847d8beef6ad10bde7522"
            }
          },
          "metadata": {}
        },
        {
          "output_type": "stream",
          "name": "stderr",
          "text": [
            "Some weights of the model checkpoint at camembert/camembert-large were not used when initializing CamembertForSequenceClassification: ['lm_head.dense.weight', 'lm_head.bias', 'roberta.pooler.dense.bias', 'roberta.pooler.dense.weight', 'lm_head.layer_norm.weight', 'lm_head.layer_norm.bias', 'lm_head.dense.bias', 'lm_head.decoder.weight']\n",
            "- This IS expected if you are initializing CamembertForSequenceClassification from the checkpoint of a model trained on another task or with another architecture (e.g. initializing a BertForSequenceClassification model from a BertForPreTraining model).\n",
            "- This IS NOT expected if you are initializing CamembertForSequenceClassification from the checkpoint of a model that you expect to be exactly identical (initializing a BertForSequenceClassification model from a BertForSequenceClassification model).\n",
            "Some weights of CamembertForSequenceClassification were not initialized from the model checkpoint at camembert/camembert-large and are newly initialized: ['classifier.out_proj.weight', 'classifier.out_proj.bias', 'classifier.dense.bias', 'classifier.dense.weight']\n",
            "You should probably TRAIN this model on a down-stream task to be able to use it for predictions and inference.\n"
          ]
        }
      ]
    },
    {
      "cell_type": "markdown",
      "source": [
        "A F1-score metric function is defined"
      ],
      "metadata": {
        "id": "EG7H_2Jgp1vp"
      }
    },
    {
      "cell_type": "code",
      "source": [
        "metric = load_metric(\"f1\")\n",
        "\n",
        "def compute_metrics(eval_pred):\n",
        "    logits, labels = eval_pred\n",
        "    predictions = np.argmax(logits, axis=-1)\n",
        "    return metric.compute(predictions=predictions, references=labels, average=None)"
      ],
      "metadata": {
        "id": "O0O4JK_LmTPZ"
      },
      "execution_count": null,
      "outputs": []
    },
    {
      "cell_type": "markdown",
      "source": [
        "A trainer object is defined"
      ],
      "metadata": {
        "id": "yv18w88_qEMZ"
      }
    },
    {
      "cell_type": "code",
      "source": [
        "training_args = TrainingArguments(\n",
        "    num_train_epochs=4,             # total # of training epochs\n",
        "    per_device_train_batch_size=5,  # batch size per device during training\n",
        "    per_device_eval_batch_size=5,   # batch size for evaluation\n",
        "    warmup_steps=500,               # number of warmup steps for learning rate scheduler\n",
        "    weight_decay=0.1,               # strength of weight decay\n",
        "    learning_rate = 0.00001,\n",
        "    logging_dir='./logs',\n",
        "    evaluation_strategy = 'epoch',\n",
        "    save_strategy='no')\n",
        "\n",
        "trainer = Trainer(\n",
        "    model=model,                         # the instantiated Transformers model to be trained\n",
        "    args=training_args,                  # training arguments, defined above\n",
        "    train_dataset=train_dataset,         # training dataset\n",
        "    eval_dataset=val_dataset,            # evaluation dataset\n",
        "    compute_metrics=compute_metrics\n",
        ")"
      ],
      "metadata": {
        "id": "6aRQVsFxgRQt"
      },
      "execution_count": null,
      "outputs": []
    },
    {
      "cell_type": "code",
      "source": [
        "trainer.train()"
      ],
      "metadata": {
        "colab": {
          "base_uri": "https://localhost:8080/",
          "height": 917
        },
        "id": "dW3VJ2QHgj_V",
        "outputId": "71a26b0e-c689-4134-9bf6-167cca0c449c"
      },
      "execution_count": null,
      "outputs": [
        {
          "output_type": "stream",
          "name": "stderr",
          "text": [
            "/usr/local/lib/python3.7/dist-packages/transformers/optimization.py:309: FutureWarning: This implementation of AdamW is deprecated and will be removed in a future version. Use the PyTorch implementation torch.optim.AdamW instead, or set `no_deprecation_warning=True` to disable this warning\n",
            "  FutureWarning,\n",
            "***** Running training *****\n",
            "  Num examples = 27875\n",
            "  Num Epochs = 4\n",
            "  Instantaneous batch size per device = 5\n",
            "  Total train batch size (w. parallel, distributed & accumulation) = 5\n",
            "  Gradient Accumulation steps = 1\n",
            "  Total optimization steps = 22300\n",
            "/usr/local/lib/python3.7/dist-packages/ipykernel_launcher.py:9: UserWarning: To copy construct from a tensor, it is recommended to use sourceTensor.clone().detach() or sourceTensor.clone().detach().requires_grad_(True), rather than torch.tensor(sourceTensor).\n",
            "  if __name__ == '__main__':\n"
          ]
        },
        {
          "output_type": "display_data",
          "data": {
            "text/plain": [
              "<IPython.core.display.HTML object>"
            ],
            "text/html": [
              "\n",
              "    <div>\n",
              "      \n",
              "      <progress value='22300' max='22300' style='width:300px; height:20px; vertical-align: middle;'></progress>\n",
              "      [22300/22300 4:43:32, Epoch 4/4]\n",
              "    </div>\n",
              "    <table border=\"1\" class=\"dataframe\">\n",
              "  <thead>\n",
              " <tr style=\"text-align: left;\">\n",
              "      <th>Epoch</th>\n",
              "      <th>Training Loss</th>\n",
              "      <th>Validation Loss</th>\n",
              "      <th>F1</th>\n",
              "    </tr>\n",
              "  </thead>\n",
              "  <tbody>\n",
              "    <tr>\n",
              "      <td>1</td>\n",
              "      <td>0.423400</td>\n",
              "      <td>0.369011</td>\n",
              "      <td>[0.94281046 0.62542955 0.44360902]</td>\n",
              "    </tr>\n",
              "    <tr>\n",
              "      <td>2</td>\n",
              "      <td>0.369100</td>\n",
              "      <td>0.427322</td>\n",
              "      <td>[0.94395768 0.656      0.49659864]</td>\n",
              "    </tr>\n",
              "    <tr>\n",
              "      <td>3</td>\n",
              "      <td>0.256400</td>\n",
              "      <td>0.556520</td>\n",
              "      <td>[0.93921902 0.66666667 0.5776699 ]</td>\n",
              "    </tr>\n",
              "    <tr>\n",
              "      <td>4</td>\n",
              "      <td>0.151700</td>\n",
              "      <td>0.674793</td>\n",
              "      <td>[0.93741543 0.64705882 0.53191489]</td>\n",
              "    </tr>\n",
              "  </tbody>\n",
              "</table><p>"
            ]
          },
          "metadata": {}
        },
        {
          "output_type": "stream",
          "name": "stderr",
          "text": [
            "***** Running Evaluation *****\n",
            "  Num examples = 3484\n",
            "  Batch size = 5\n",
            "Trainer is attempting to log a value of \"[0.94281046 0.62542955 0.44360902]\" of type <class 'numpy.ndarray'> for key \"eval/f1\" as a scalar. This invocation of Tensorboard's writer.add_scalar() is incorrect so we dropped this attribute.\n",
            "/usr/local/lib/python3.7/dist-packages/ipykernel_launcher.py:9: UserWarning: To copy construct from a tensor, it is recommended to use sourceTensor.clone().detach() or sourceTensor.clone().detach().requires_grad_(True), rather than torch.tensor(sourceTensor).\n",
            "  if __name__ == '__main__':\n",
            "***** Running Evaluation *****\n",
            "  Num examples = 3484\n",
            "  Batch size = 5\n",
            "Trainer is attempting to log a value of \"[0.94395768 0.656      0.49659864]\" of type <class 'numpy.ndarray'> for key \"eval/f1\" as a scalar. This invocation of Tensorboard's writer.add_scalar() is incorrect so we dropped this attribute.\n",
            "/usr/local/lib/python3.7/dist-packages/ipykernel_launcher.py:9: UserWarning: To copy construct from a tensor, it is recommended to use sourceTensor.clone().detach() or sourceTensor.clone().detach().requires_grad_(True), rather than torch.tensor(sourceTensor).\n",
            "  if __name__ == '__main__':\n",
            "***** Running Evaluation *****\n",
            "  Num examples = 3484\n",
            "  Batch size = 5\n",
            "Trainer is attempting to log a value of \"[0.93921902 0.66666667 0.5776699 ]\" of type <class 'numpy.ndarray'> for key \"eval/f1\" as a scalar. This invocation of Tensorboard's writer.add_scalar() is incorrect so we dropped this attribute.\n",
            "/usr/local/lib/python3.7/dist-packages/ipykernel_launcher.py:9: UserWarning: To copy construct from a tensor, it is recommended to use sourceTensor.clone().detach() or sourceTensor.clone().detach().requires_grad_(True), rather than torch.tensor(sourceTensor).\n",
            "  if __name__ == '__main__':\n",
            "***** Running Evaluation *****\n",
            "  Num examples = 3484\n",
            "  Batch size = 5\n",
            "Trainer is attempting to log a value of \"[0.93741543 0.64705882 0.53191489]\" of type <class 'numpy.ndarray'> for key \"eval/f1\" as a scalar. This invocation of Tensorboard's writer.add_scalar() is incorrect so we dropped this attribute.\n",
            "\n",
            "\n",
            "Training completed. Do not forget to share your model on huggingface.co/models =)\n",
            "\n",
            "\n"
          ]
        },
        {
          "output_type": "execute_result",
          "data": {
            "text/plain": [
              "TrainOutput(global_step=22300, training_loss=0.31165999853022963, metrics={'train_runtime': 17013.6292, 'train_samples_per_second': 6.554, 'train_steps_per_second': 1.311, 'total_flos': 4.05901164462e+16, 'train_loss': 0.31165999853022963, 'epoch': 4.0})"
            ]
          },
          "metadata": {},
          "execution_count": 31
        }
      ]
    },
    {
      "cell_type": "markdown",
      "source": [
        "#Model testing"
      ],
      "metadata": {
        "id": "B2Qqf_6LrXyd"
      }
    },
    {
      "cell_type": "markdown",
      "source": [
        "PDTB test dataset"
      ],
      "metadata": {
        "id": "NoQtufLqrbOJ"
      }
    },
    {
      "cell_type": "code",
      "source": [
        "pred_test = trainer.predict(test_dataset)\n",
        "pred_test = np.argmax(pred_test.predictions, axis=-1)\n",
        "\n",
        "print(f1_score(y_test_encoded, pred_test, average=None))"
      ],
      "metadata": {
        "id": "bYUp-NzZhFLr",
        "colab": {
          "base_uri": "https://localhost:8080/",
          "height": 161
        },
        "outputId": "a602b8e4-d5db-43a9-992d-6a55f42cb6f8"
      },
      "execution_count": null,
      "outputs": [
        {
          "output_type": "stream",
          "name": "stderr",
          "text": [
            "***** Running Prediction *****\n",
            "  Num examples = 3484\n",
            "  Batch size = 8\n",
            "/usr/local/lib/python3.7/dist-packages/ipykernel_launcher.py:9: UserWarning: To copy construct from a tensor, it is recommended to use sourceTensor.clone().detach() or sourceTensor.clone().detach().requires_grad_(True), rather than torch.tensor(sourceTensor).\n",
            "  if __name__ == '__main__':\n"
          ]
        },
        {
          "output_type": "display_data",
          "data": {
            "text/plain": [
              "<IPython.core.display.HTML object>"
            ],
            "text/html": [
              "\n",
              "    <div>\n",
              "      \n",
              "      <progress value='436' max='436' style='width:300px; height:20px; vertical-align: middle;'></progress>\n",
              "      [436/436 01:12]\n",
              "    </div>\n",
              "    "
            ]
          },
          "metadata": {}
        },
        {
          "output_type": "stream",
          "name": "stdout",
          "text": [
            "[0.9359959  0.66169896 0.57990868]\n"
          ]
        }
      ]
    },
    {
      "cell_type": "markdown",
      "source": [
        "Explicit and implicit subset of the PDTB test dataset"
      ],
      "metadata": {
        "id": "O76STrbGsSga"
      }
    },
    {
      "cell_type": "code",
      "source": [
        "#Test explicit and implicit\n",
        "tokenizer = CamembertTokenizer.from_pretrained(\"camembert/camembert-large\")\n",
        "\n",
        "pdtb_test_explicit = pdtb_test.loc[pdtb_test['explicit']==1,:]\n",
        "pdtb_test_implicit = pdtb_test.loc[pdtb_test['explicit']==0,:]\n",
        "\n",
        "X_test_explicit_arg1 = pdtb_test_explicit['arg1_fr'].tolist()\n",
        "X_test_explicit_arg2 = pdtb_test_explicit['arg2_fr'].tolist()\n",
        "X_test_explicit_encoded = tokenizer(X_test_explicit_arg1, X_test_explicit_arg2, truncation='longest_first', padding ='max_length', max_length=200, return_tensors='pt')\n",
        "\n",
        "y_test_explicit = pdtb_test_explicit['causal_type'].tolist()\n",
        "y_test_explicit_encoded = [0 if x=='Not causal' else (1 if x=='Reason' else (2 if x=='Result' else x)) for x in y_test_explicit]\n",
        "\n",
        "test_explicit_dataset = Dataset(X_test_explicit_encoded, y_test_explicit_encoded)\n",
        "\n",
        "\n",
        "X_test_implicit_arg1 = pdtb_test_implicit['arg1_fr'].tolist()\n",
        "X_test_implicit_arg2 = pdtb_test_implicit['arg2_fr'].tolist()\n",
        "X_test_implicit_encoded = tokenizer(X_test_implicit_arg1, X_test_implicit_arg2, truncation='longest_first', padding ='max_length', max_length=200, return_tensors='pt')\n",
        "\n",
        "y_test_implicit = pdtb_test_implicit['causal_type'].tolist()\n",
        "y_test_implicit_encoded = [0 if x=='Not causal' else (1 if x=='Reason' else (2 if x=='Result' else x)) for x in y_test_implicit]\n",
        "\n",
        "test_implicit_dataset = Dataset(X_test_implicit_encoded, y_test_implicit_encoded)"
      ],
      "metadata": {
        "id": "wubJZKVZOia0"
      },
      "execution_count": null,
      "outputs": []
    },
    {
      "cell_type": "code",
      "source": [
        "#PDTB test explicit\n",
        "pred_test_explicit = trainer.predict(test_explicit_dataset)\n",
        "pred_test_explicit = np.argmax(pred_test_explicit.predictions, axis=-1)\n",
        "\n",
        "print(f1_score(y_test_explicit_encoded, pred_test_explicit, average=None))"
      ],
      "metadata": {
        "colab": {
          "base_uri": "https://localhost:8080/",
          "height": 161
        },
        "id": "XHnyuBLfOidy",
        "outputId": "83c3dcbc-a8cb-44eb-c4ef-6b07e44b6bc2"
      },
      "execution_count": null,
      "outputs": [
        {
          "output_type": "stream",
          "name": "stderr",
          "text": [
            "***** Running Prediction *****\n",
            "  Num examples = 1506\n",
            "  Batch size = 8\n",
            "/usr/local/lib/python3.7/dist-packages/ipykernel_launcher.py:9: UserWarning: To copy construct from a tensor, it is recommended to use sourceTensor.clone().detach() or sourceTensor.clone().detach().requires_grad_(True), rather than torch.tensor(sourceTensor).\n",
            "  if __name__ == '__main__':\n"
          ]
        },
        {
          "output_type": "display_data",
          "data": {
            "text/plain": [
              "<IPython.core.display.HTML object>"
            ],
            "text/html": [
              "\n",
              "    <div>\n",
              "      \n",
              "      <progress value='981' max='436' style='width:300px; height:20px; vertical-align: middle;'></progress>\n",
              "      [436/436 03:20]\n",
              "    </div>\n",
              "    "
            ]
          },
          "metadata": {}
        },
        {
          "output_type": "stream",
          "name": "stdout",
          "text": [
            "[0.97223309 0.84697509 0.7816092 ]\n"
          ]
        }
      ]
    },
    {
      "cell_type": "code",
      "source": [
        "#PDTB test implicit\n",
        "pred_test_implicit = trainer.predict(test_implicit_dataset)\n",
        "pred_test_implicit = np.argmax(pred_test_implicit.predictions, axis=-1)\n",
        "\n",
        "print(f1_score(y_test_implicit_encoded, pred_test_implicit, average=None))"
      ],
      "metadata": {
        "id": "WM7yyf39OdaE"
      },
      "execution_count": null,
      "outputs": []
    },
    {
      "cell_type": "markdown",
      "source": [
        "Explicadis dataset"
      ],
      "metadata": {
        "id": "52C6eIvzsFM4"
      }
    },
    {
      "cell_type": "code",
      "source": [
        "pred_explicadis = trainer.predict(explicadis_dataset)\n",
        "pred_explicadis = np.argmax(pred_explicadis.predictions, axis=-1)\n",
        "\n",
        "print(f1_score(y_explicadis_encoded, pred_explicadis, average=None))"
      ],
      "metadata": {
        "id": "a86RYtDShFOc",
        "colab": {
          "base_uri": "https://localhost:8080/",
          "height": 161
        },
        "outputId": "a835dd27-0e89-4a52-9aad-c96589bbcde1"
      },
      "execution_count": null,
      "outputs": [
        {
          "output_type": "stream",
          "name": "stderr",
          "text": [
            "***** Running Prediction *****\n",
            "  Num examples = 2848\n",
            "  Batch size = 8\n",
            "/usr/local/lib/python3.7/dist-packages/ipykernel_launcher.py:9: UserWarning: To copy construct from a tensor, it is recommended to use sourceTensor.clone().detach() or sourceTensor.clone().detach().requires_grad_(True), rather than torch.tensor(sourceTensor).\n",
            "  if __name__ == '__main__':\n"
          ]
        },
        {
          "output_type": "display_data",
          "data": {
            "text/plain": [
              "<IPython.core.display.HTML object>"
            ],
            "text/html": [
              "\n",
              "    <div>\n",
              "      \n",
              "      <progress value='792' max='436' style='width:300px; height:20px; vertical-align: middle;'></progress>\n",
              "      [436/436 02:33]\n",
              "    </div>\n",
              "    "
            ]
          },
          "metadata": {}
        },
        {
          "output_type": "stream",
          "name": "stdout",
          "text": [
            "[0.94694854 0.62048193 0.53714286]\n"
          ]
        }
      ]
    },
    {
      "cell_type": "markdown",
      "source": [
        "Explicit and implicit subset of the Explicadis dataset"
      ],
      "metadata": {
        "id": "HR8a1ga2shnN"
      }
    },
    {
      "cell_type": "code",
      "source": [
        "#Explicadis explicit and implicit\n",
        "tokenizer = CamembertTokenizer.from_pretrained(\"camembert/camembert-large\")\n",
        "\n",
        "explicadis_explicit = explicadis.loc[explicadis['explicit']==1,:]\n",
        "explicadis_implicit = explicadis.loc[explicadis['explicit']==0,:]\n",
        "\n",
        "X_explicadis_explicit_arg1 = explicadis_explicit['Arg1_raw'].tolist()\n",
        "X_explicadis_explicit_arg2 = explicadis_explicit['Arg2_raw'].tolist()\n",
        "X_explicadis_explicit_encoded = tokenizer(X_explicadis_explicit_arg1, X_explicadis_explicit_arg2, truncation='longest_first', padding ='max_length', max_length=200, return_tensors='pt')\n",
        "\n",
        "y_explicadis_explicit = explicadis_explicit['causal_type'].tolist()\n",
        "y_explicadis_explicit_encoded = [0 if x=='Not causal' else (1 if x=='Reason' else (2 if x=='Result' else x)) for x in y_explicadis_explicit]\n",
        "\n",
        "explicadis_explicit_dataset = Dataset(X_explicadis_explicit_encoded, y_explicadis_explicit_encoded)\n",
        "\n",
        "\n",
        "X_explicadis_implicit_arg1 = explicadis_implicit['Arg1_raw'].tolist()\n",
        "X_explicadis_implicit_arg2 = explicadis_implicit['Arg2_raw'].tolist()\n",
        "X_explicadis_implicit_encoded = tokenizer(X_explicadis_implicit_arg1, X_explicadis_implicit_arg2, truncation='longest_first', padding ='max_length', max_length=200, return_tensors='pt')\n",
        "\n",
        "y_explicadis_implicit = explicadis_implicit['causal_type'].tolist()\n",
        "y_explicadis_implicit_encoded = [0 if x=='Not causal' else (1 if x=='Reason' else (2 if x=='Result' else x)) for x in y_explicadis_implicit]\n",
        "\n",
        "explicadis_implicit_dataset = Dataset(X_explicadis_implicit_encoded, y_explicadis_implicit_encoded)"
      ],
      "metadata": {
        "id": "7dp0ISxWQ1KO"
      },
      "execution_count": null,
      "outputs": []
    },
    {
      "cell_type": "code",
      "source": [
        "#Explicadis explicit\n",
        "from sklearn.metrics import f1_score\n",
        "\n",
        "pred_explicadis_explicit = trainer.predict(explicadis_explicit_dataset)\n",
        "pred_explicadis_explicit = np.argmax(pred_explicadis_explicit.predictions, axis=-1)\n",
        "\n",
        "print(f1_score(y_explicadis_explicit_encoded, pred_explicadis_explicit, average=None))"
      ],
      "metadata": {
        "colab": {
          "base_uri": "https://localhost:8080/",
          "height": 161
        },
        "id": "Wn9gdDL2UY2f",
        "outputId": "fc7365bc-07da-451d-b7af-36a51b198f66"
      },
      "execution_count": null,
      "outputs": [
        {
          "output_type": "stream",
          "name": "stderr",
          "text": [
            "***** Running Prediction *****\n",
            "  Num examples = 1012\n",
            "  Batch size = 8\n",
            "/usr/local/lib/python3.7/dist-packages/ipykernel_launcher.py:9: UserWarning: To copy construct from a tensor, it is recommended to use sourceTensor.clone().detach() or sourceTensor.clone().detach().requires_grad_(True), rather than torch.tensor(sourceTensor).\n",
            "  if __name__ == '__main__':\n"
          ]
        },
        {
          "output_type": "display_data",
          "data": {
            "text/plain": [
              "<IPython.core.display.HTML object>"
            ],
            "text/html": [
              "\n",
              "    <div>\n",
              "      \n",
              "      <progress value='1483' max='436' style='width:300px; height:20px; vertical-align: middle;'></progress>\n",
              "      [436/436 08:29]\n",
              "    </div>\n",
              "    "
            ]
          },
          "metadata": {}
        },
        {
          "output_type": "stream",
          "name": "stdout",
          "text": [
            "[0.92317224 0.76315789 0.63565891]\n"
          ]
        }
      ]
    },
    {
      "cell_type": "code",
      "source": [
        "#Explicadis implicit\n",
        "from sklearn.metrics import f1_score\n",
        "\n",
        "pred_explicadis_implicit = trainer.predict(explicadis_implicit_dataset)\n",
        "pred_explicadis_implicit = np.argmax(pred_explicadis_implicit.predictions, axis=-1)\n",
        "\n",
        "print(f1_score(y_explicadis_implicit_encoded, pred_explicadis_implicit, average=None))"
      ],
      "metadata": {
        "colab": {
          "base_uri": "https://localhost:8080/",
          "height": 161
        },
        "id": "PcBofCqbUdPR",
        "outputId": "e7908532-5b14-445f-bd39-b2bd97b06da8"
      },
      "execution_count": null,
      "outputs": [
        {
          "output_type": "stream",
          "name": "stderr",
          "text": [
            "***** Running Prediction *****\n",
            "  Num examples = 1836\n",
            "  Batch size = 8\n",
            "/usr/local/lib/python3.7/dist-packages/ipykernel_launcher.py:9: UserWarning: To copy construct from a tensor, it is recommended to use sourceTensor.clone().detach() or sourceTensor.clone().detach().requires_grad_(True), rather than torch.tensor(sourceTensor).\n",
            "  if __name__ == '__main__':\n"
          ]
        },
        {
          "output_type": "display_data",
          "data": {
            "text/plain": [
              "<IPython.core.display.HTML object>"
            ],
            "text/html": [
              "\n",
              "    <div>\n",
              "      \n",
              "      <progress value='1713' max='436' style='width:300px; height:20px; vertical-align: middle;'></progress>\n",
              "      [436/436 09:08]\n",
              "    </div>\n",
              "    "
            ]
          },
          "metadata": {}
        },
        {
          "output_type": "stream",
          "name": "stdout",
          "text": [
            "[0.95823529 0.5        0.26086957]\n"
          ]
        }
      ]
    },
    {
      "cell_type": "code",
      "source": [
        ""
      ],
      "metadata": {
        "id": "Y8TtfeAJzZgA"
      },
      "execution_count": null,
      "outputs": []
    }
  ]
}